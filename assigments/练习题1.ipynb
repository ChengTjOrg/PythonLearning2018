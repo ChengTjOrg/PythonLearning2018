{
 "cells": [
  {
   "cell_type": "markdown",
   "metadata": {},
   "source": [
    "# 练习一"
   ]
  },
  {
   "cell_type": "markdown",
   "metadata": {},
   "source": [
    "s是列表，试定义函数 reverse(s)，返回列表 s 的倒序列表。如\n",
    "\n",
    "s=[1, 2, 3, 4]\n",
    "\n",
    "reverse(s)\n",
    "\n",
    "   [4, 3, 2, 1]"
   ]
  },
  {
   "cell_type": "code",
   "execution_count": null,
   "metadata": {},
   "outputs": [],
   "source": [
    "# 定义函数 reverse(s)\n",
    "def reverse(s):\n",
    "    pass\n",
    "    print (s)"
   ]
  },
  {
   "cell_type": "code",
   "execution_count": null,
   "metadata": {},
   "outputs": [],
   "source": [
    "# 检验函数 reverse(s)\n",
    "s = [1,2,3,4,5,6,7,8]\n",
    "reverse(s)"
   ]
  },
  {
   "cell_type": "markdown",
   "metadata": {},
   "source": [
    "# 练习二"
   ]
  },
  {
   "cell_type": "markdown",
   "metadata": {},
   "source": [
    "写函数，根据给定符号和行数，打印如下形状的直角三角形、头向上等腰三角形、及头向左等腰三角形。\n",
    "如，给定符号 symbol=#，行数 line_num=5 时\n",
    "\n",
    "(1)直角三角形：\n",
    "\n",
    "      *\n",
    "     **\n",
    "    ***\n",
    "   ****\n",
    "  *****\n",
    "\n",
    "(2)头向上等腰三角形：\n",
    "\n",
    "      *\n",
    "     ***     \n",
    "    *****\n",
    "   *******\n",
    "  *********\n",
    "\n",
    "(3)头向左等腰三角形：\n",
    "\n",
    "      *\n",
    "     **\n",
    "    ***\n",
    "     **\n",
    "      *\n"
   ]
  },
  {
   "cell_type": "code",
   "execution_count": null,
   "metadata": {},
   "outputs": [],
   "source": [
    "# 完成函数定义\n",
    "def play_triangel(symbol,line_num):\n",
    "    pass\n",
    "\n",
    "symbol = '*' \n",
    "line_num = int(input(\"请输入行号，回车结束：\"))\n",
    "\n",
    "# 执行函数\n",
    "play_triangel(symbol,line_num)"
   ]
  },
  {
   "cell_type": "markdown",
   "metadata": {},
   "source": [
    "# 练习三"
   ]
  },
  {
   "cell_type": "markdown",
   "metadata": {},
   "source": [
    "编写英语名词单数变复数的函数，尽可能的考虑多种情况。"
   ]
  },
  {
   "cell_type": "code",
   "execution_count": null,
   "metadata": {},
   "outputs": [],
   "source": [
    "# 英语单词单数变复数\n",
    "\n",
    "def sin_to_plu(Eng_word):\n",
    "    pass\n",
    "\n",
    "sin_to_plu(\"apple\")"
   ]
  },
  {
   "cell_type": "markdown",
   "metadata": {},
   "source": [
    "# 练习四"
   ]
  },
  {
   "cell_type": "markdown",
   "metadata": {},
   "source": [
    "写函数，根据给定符号，上底、下底、高，打印各种梯形。"
   ]
  },
  {
   "cell_type": "code",
   "execution_count": null,
   "metadata": {},
   "outputs": [],
   "source": [
    "# 函数定义\n",
    "def play_trapezium(symbol,upper_line,lower_line,height):\n",
    "    pass\n",
    "\n",
    "# 执行函数\n",
    "symbol = '*' \n",
    "upper_line = int(input(\"请输入梯形上底，回车结束：\"))\n",
    "lower_line = int(input(\"请输入梯形下底，回车结束：\"))\n",
    "height = int(input(\"请输入梯形的高，回车结束：\"))\n",
    "play_trapezium(symbol,upper_line,lower_line,height)"
   ]
  },
  {
   "cell_type": "markdown",
   "metadata": {},
   "source": [
    "# 练习五"
   ]
  },
  {
   "cell_type": "markdown",
   "metadata": {},
   "source": [
    "写函数，根据给定符号，打印各种菱形。"
   ]
  },
  {
   "cell_type": "code",
   "execution_count": null,
   "metadata": {},
   "outputs": [],
   "source": [
    "# 完成函数定义\n",
    "def play_rhombus(symbol,line_num):\n",
    "    pass\n",
    "\n",
    "# 执行\n",
    "symbol = '*' \n",
    "line_num = int(input(\"请输入行数，回车结束：\"))  \n",
    "play_rhombus(symbol,line_num)"
   ]
  },
  {
   "cell_type": "markdown",
   "metadata": {},
   "source": [
    "# 练习六"
   ]
  },
  {
   "cell_type": "markdown",
   "metadata": {},
   "source": [
    "编写程序，实现文件的加解密"
   ]
  },
  {
   "cell_type": "code",
   "execution_count": null,
   "metadata": {},
   "outputs": [],
   "source": [
    "import random\n",
    "\n",
    "# 随机密钥\n",
    "def compute_rand_key():\n",
    "    pass\n",
    "\n",
    "# 生成随机字母或数字\n",
    "def compute_rand_letter():\n",
    "    pass\n",
    "\n",
    "# 编码\n",
    "def encode(rand_key,word_len):\n",
    "    pass\n",
    "\n",
    "# 解码\n",
    "def decode(rand_key,word_len):\n",
    "    pass\n",
    "\n",
    "def main():\n",
    "    file_in = open('file_before_code.txt','r')\n",
    "    print ('加密前的文件：')\n",
    "    for line in file_in:\n",
    "        print (line)\n",
    "    word_len = []\n",
    "    rand_key = compute_rand_key()\n",
    "    encode(rand_key,word_len)\n",
    "    print ('加密后的文件：')\n",
    "    decode(rand_key,word_len)\n",
    "\n",
    "# 执行部分\n",
    "if __name__ == '__main__':\n",
    "    main()"
   ]
  }
 ],
 "metadata": {
  "kernelspec": {
   "display_name": "Python 3",
   "language": "python",
   "name": "python3"
  },
  "language_info": {
   "codemirror_mode": {
    "name": "ipython",
    "version": 3
   },
   "file_extension": ".py",
   "mimetype": "text/x-python",
   "name": "python",
   "nbconvert_exporter": "python",
   "pygments_lexer": "ipython3",
   "version": "3.6.4"
  }
 },
 "nbformat": 4,
 "nbformat_minor": 2
}
