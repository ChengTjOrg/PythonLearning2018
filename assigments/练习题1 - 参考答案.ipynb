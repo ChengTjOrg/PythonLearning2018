{
 "cells": [
  {
   "cell_type": "markdown",
   "metadata": {},
   "source": [
    "# 练习一"
   ]
  },
  {
   "cell_type": "markdown",
   "metadata": {},
   "source": [
    "s是列表，试定义函数 reverse(s)，返回列表 s 的倒序列表。\n",
    "如\n",
    "\n",
    "s=[1, 2, 3, 4]\n",
    "\n",
    "reverse(s)\n",
    "\n",
    "[4, 3, 2, 1]"
   ]
  },
  {
   "cell_type": "code",
   "execution_count": 3,
   "metadata": {},
   "outputs": [],
   "source": [
    "# 定义函数 reverse(s)\n",
    "def reverse(s):\n",
    "    rev_s = [0]*len(s)\n",
    "    for i in range(len(s)):\n",
    "        rev_s[len(s)-i-1] = s[i]\n",
    "    s = rev_s\n",
    "    print (s)"
   ]
  },
  {
   "cell_type": "code",
   "execution_count": 4,
   "metadata": {},
   "outputs": [
    {
     "name": "stdout",
     "output_type": "stream",
     "text": [
      "[8, 7, 6, 5, 4, 3, 2, 1]\n"
     ]
    }
   ],
   "source": [
    "# 检验函数 reverse(s)\n",
    "s = [1,2,3,4,5,6,7,8]\n",
    "reverse(s)"
   ]
  },
  {
   "cell_type": "markdown",
   "metadata": {},
   "source": [
    "# 练习二"
   ]
  },
  {
   "cell_type": "markdown",
   "metadata": {},
   "source": [
    "写函数，根据给定符号和行数，打印如下形状的直角三角形、头向上等腰三角形、及头向左等腰三角形。\n",
    "如，给定符号 symbol=#，行数 line_num=5 时\n",
    "\n",
    "(1)直角三角形：\n",
    "\n",
    "      *\n",
    "     **\n",
    "    ***\n",
    "   ****\n",
    "  *****\n",
    "\n",
    "(2)头向上等腰三角形：\n",
    "\n",
    "      *\n",
    "     ***     \n",
    "    *****\n",
    "   *******\n",
    "  *********\n",
    "\n",
    "(3)头向左等腰三角形：\n",
    "\n",
    "      *\n",
    "     **\n",
    "    ***\n",
    "     **\n",
    "      *\n"
   ]
  },
  {
   "cell_type": "code",
   "execution_count": 5,
   "metadata": {},
   "outputs": [
    {
     "name": "stdout",
     "output_type": "stream",
     "text": [
      "请输入行号，回车结束：4\n",
      "直角三角形：\n",
      "   *\n",
      "  **\n",
      " ***\n",
      "****\n",
      "等腰三角形：\n",
      "   *   \n",
      "  ***  \n",
      " ***** \n",
      "*******\n",
      "其他三角形：\n",
      "   *\n",
      "  **\n",
      "   *\n",
      "    \n"
     ]
    }
   ],
   "source": [
    "def play_triangel(symbol,line_num):\n",
    "    print ('直角三角形：')   #加上列号似乎有多种，其余同理\n",
    "    for i in range(line_num):\n",
    "        print (' '*(line_num-i-1)+symbol*(i+1))\n",
    "    print ('等腰三角形：')  \n",
    "    for i in range(line_num):\n",
    "        print (' '*(line_num-i-1)+symbol*(i)+'*'+symbol*(i)+' '*(line_num-i-1))\n",
    "    print ('其他三角形：')  #不是很懂，其余？    \n",
    "    for i in range(line_num):\n",
    "        if i < line_num//2:\n",
    "            print (' '*(line_num-i-1)+symbol*(i+1))\n",
    "        else:\n",
    "            if line_num%2 == 0:\n",
    "                j = line_num-i-2\n",
    "            else:\n",
    "                j = line_num-i-1\n",
    "            print (' '*(line_num-j-1)+symbol*(j+1))\n",
    "               \n",
    "symbol = '*' \n",
    "line_num = int(input(\"请输入行号，回车结束：\"))\n",
    "play_triangel(symbol,line_num)"
   ]
  },
  {
   "cell_type": "markdown",
   "metadata": {},
   "source": [
    "# 练习三"
   ]
  },
  {
   "cell_type": "markdown",
   "metadata": {},
   "source": [
    "编写英语名词单数变复数的函数，尽可能的考虑多种情况。"
   ]
  },
  {
   "cell_type": "code",
   "execution_count": 4,
   "metadata": {},
   "outputs": [
    {
     "name": "stdout",
     "output_type": "stream",
     "text": [
      "请输入一个要转换的英语单词，回车结束,输入‘q’结束  tomato\n",
      "tomatoes\n",
      "请输入一个要转换的英语单词，回车结束,输入‘q’结束  safe\n",
      "safes\n",
      "请输入一个要转换的英语单词，回车结束,输入‘q’结束  life\n",
      "lives\n",
      "请输入一个要转换的英语单词，回车结束,输入‘q’结束  bus\n",
      "buses\n",
      "请输入一个要转换的英语单词，回车结束,输入‘q’结束  q\n"
     ]
    }
   ],
   "source": [
    "#写成英语名词了，就不写动词了\n",
    "\n",
    "def sin_to_plu(Eng_word):\n",
    "    if Eng_word.endswith('s') or Eng_word.endswith('x') or Eng_word.endswith('sh') or Eng_word.endswith('ch'):\n",
    "        print (Eng_word+'es')\n",
    "    elif Eng_word.endswith('y'):\n",
    "        print (Eng_word[0:len(Eng_word)-1]+'ies')\n",
    "    elif Eng_word.endswith('f') or Eng_word.endswith('fe'):\n",
    "        if Eng_word == 'safe' or Eng_word == 'roof': #这特殊情况能列举不完\n",
    "            print (Eng_word+'s')\n",
    "        elif(Eng_word.endswith('f')):\n",
    "            print (Eng_word[0:len(Eng_word)-1]+'ves')\n",
    "        else :\n",
    "            print (Eng_word[0:len(Eng_word)-2]+'ves')\n",
    "    elif Eng_word.endswith('o'):\n",
    "        if Eng_word == 'tomato' or Eng_word == 'tomato' or Eng_word == 'hero' or Eng_word == 'negro':  #这特殊情况能列举不完\n",
    "            print (Eng_word+'es')\n",
    "        else :\n",
    "            print (Eng_word+'s')\n",
    "    #elif #不规则的单词 就不写了\n",
    "    else :\n",
    "        print (Eng_word+'s')\n",
    "        \n",
    "while True :\n",
    "    Eng_word = input('请输入一个要转换的英语单词，回车结束,输入‘q’结束  ')\n",
    "    if Eng_word == 'q':\n",
    "        break\n",
    "    sin_to_plu(Eng_word)"
   ]
  },
  {
   "cell_type": "markdown",
   "metadata": {},
   "source": [
    "# 练习四"
   ]
  },
  {
   "cell_type": "markdown",
   "metadata": {},
   "source": [
    "写函数，根据给定符号，上底、下底、高，打印各种梯形。"
   ]
  },
  {
   "cell_type": "code",
   "execution_count": 5,
   "metadata": {},
   "outputs": [
    {
     "name": "stdout",
     "output_type": "stream",
     "text": [
      "请输入梯形上底，回车结束：6\n",
      "请输入梯形下底，回车结束：12\n",
      "请输入梯形的高，回车结束：6\n",
      "trapezium：\n",
      "      ******\n",
      "     *******\n",
      "    ********\n",
      "   *********\n",
      "  **********\n",
      " ***********\n"
     ]
    }
   ],
   "source": [
    "def play_trapezium(symbol,upper_line,lower_line,height):\n",
    "    print ('trapezium：')   \n",
    "    for i in range(height):\n",
    "        print (' '*(lower_line-upper_line-i)+symbol*(i+upper_line))\n",
    "        \n",
    "symbol = '*' \n",
    "upper_line = int(input(\"请输入梯形上底，回车结束：\"))\n",
    "lower_line = int(input(\"请输入梯形下底，回车结束：\"))\n",
    "height = int(input(\"请输入梯形的高，回车结束：\"))\n",
    "play_trapezium(symbol,upper_line,lower_line,height)"
   ]
  },
  {
   "cell_type": "markdown",
   "metadata": {},
   "source": [
    "# 练习五"
   ]
  },
  {
   "cell_type": "markdown",
   "metadata": {},
   "source": [
    "写函数，根据给定符号，打印各种菱形。"
   ]
  },
  {
   "cell_type": "code",
   "execution_count": 7,
   "metadata": {},
   "outputs": [
    {
     "name": "stdout",
     "output_type": "stream",
     "text": [
      "请输入行数，回车结束：7\n",
      "rhombus：\n",
      "      *      \n",
      "     ***     \n",
      "    *****    \n",
      "   *******   \n",
      "    *****    \n",
      "     ***     \n",
      "      *      \n"
     ]
    }
   ],
   "source": [
    "def play_rhombus(symbol,line_num):\n",
    "    print ('rhombus：')  \n",
    "    for i in range(line_num):\n",
    "        if i < line_num//2:\n",
    "            print (' '*(line_num-i-1)+symbol*(i)+'*'+symbol*(i)+' '*(line_num-i-1))\n",
    "        else:\n",
    "            if line_num%2 == 0:\n",
    "                j = line_num-i-2\n",
    "                if (i != line_num-1):\n",
    "                    print (' '*(i+1)+symbol*(j)+'*'+symbol*(j)+' '*(i))\n",
    "            else:\n",
    "                j = line_num-i-1\n",
    "                print (' '*(i)+symbol*(j)+'*'+symbol*(j)+' '*(i))\n",
    "symbol = '*' \n",
    "line_num = int(input(\"请输入行数，回车结束：\"))  \n",
    "play_rhombus(symbol,line_num)"
   ]
  },
  {
   "cell_type": "markdown",
   "metadata": {},
   "source": [
    "# 练习六"
   ]
  },
  {
   "cell_type": "markdown",
   "metadata": {},
   "source": [
    "编写程序，实现文件的加解密"
   ]
  },
  {
   "cell_type": "code",
   "execution_count": 1,
   "metadata": {},
   "outputs": [
    {
     "name": "stdout",
     "output_type": "stream",
     "text": [
      "加密前的文件：\n",
      "South African Duo Amis to be First to Row Across Southern Atlantic.\n",
      "加密后的文件：\n",
      "UqxtjbslFJ ChuieasLPD FwrcNTivvk ColskFLnbf vqyKPuYdrh dgKXYFNRyA HkusvmITat vqgUXpUcaZ TqzQguyMTO CeuousQbDZ Uqxtjewouq CvoaptndBK \n",
      "解密后的文件：\n",
      "South\n",
      "African\n",
      "Duo\n",
      "Amis\n",
      "to\n",
      "be\n",
      "First\n",
      "to\n",
      "Row\n",
      "Across\n",
      "Southern\n",
      "Atlantic\n",
      "    -----------------分割线-----------------\n",
      "    \n",
      "    问题：\n",
      "         1.原来单词的长度再现困难，是否是我题意理解错了\n",
      "         2.移位问题\n",
      "    \n",
      "    -----------------分割线-----------------\n"
     ]
    }
   ],
   "source": [
    "import random\n",
    "\n",
    "def compute_rand_key():\n",
    "    rand_num = [0]*9\n",
    "    for i in range(9):\n",
    "        rand_num[i] = random.randint(0,9)\n",
    "    return rand_num\n",
    "\n",
    "def compute_rand_letter():\n",
    "    rand_letter = random.randint(65,122)\n",
    "    while rand_letter >= 91 and rand_letter <= 96:\n",
    "        rand_letter = random.randint(65,122)\n",
    "    return rand_letter\n",
    "\n",
    "def encode(rand_key,word_len):\n",
    "    file_in = open('F:\\\\python\\\\419test.txt','r')\n",
    "    file_out = open('F:\\\\python\\\\419test_new_out.txt','w')\n",
    "    for line in file_in:\n",
    "        symbol = '.,?'\n",
    "        for s in symbol: \n",
    "            line = line.replace(s,' ')\n",
    "        line = line.split()\n",
    "        for word in line:\n",
    "            word_len.append(len(word))\n",
    "            key = rand_key.copy()\n",
    "            key.append(len(word))\n",
    "            word_new = []\n",
    "            for i in range(len(word)):\n",
    "                ascii_i = ord(word[i])\n",
    "                #ascii_i >> int(key[i])\n",
    "                ascii_i += int(key[i])\n",
    "                ascii_i = chr(ascii_i)\n",
    "                word_new.append(ascii_i)\n",
    "            for j in range(len(word),10):   # len(word)要如何保存下来\n",
    "                rand_le = compute_rand_letter()\n",
    "                word_new.append(chr(rand_le))\n",
    "            word_new = \"\".join(word_new)\n",
    "            #print (word_new)\n",
    "            file_out.write(word_new+' ')\n",
    "    file_in.close()\n",
    "    file_out.close()\n",
    "\n",
    "def decode(rand_key,word_len):\n",
    "    file_in = open('F:\\\\python\\\\419test_new_out.txt','r')\n",
    "    file_out = open('F:\\\\python\\\\419test_old_out.txt','w')\n",
    "    for line in file_in:\n",
    "        print (line+'\\n解密后的文件：')\n",
    "        line = line.split()\n",
    "        j = 0\n",
    "        for word_new in line:\n",
    "            rand_key.append(len(word_new))   ###如何得到原来的len(word)即字符的长度\n",
    "            key = rand_key.copy()\n",
    "            word_old = []\n",
    "            for i in range(int(word_len[j])):\n",
    "                ascii_i = ord(word_new[i])\n",
    "                #ascii_i << int(key[i])\n",
    "                ascii_i -= int(key[i])\n",
    "                ascii_i = chr(ascii_i)\n",
    "                word_old.append(ascii_i)\n",
    "\n",
    "            word_old = \"\".join(word_old)\n",
    "            j += 1\n",
    "            print (word_old)\n",
    "            file_out.write(word_old+' ')\n",
    "    file_in.close()\n",
    "    file_out.close()\n",
    "\n",
    "def main():\n",
    "    file_in = open('F:\\\\python\\\\419test.txt','r')\n",
    "    print ('加密前的文件：')\n",
    "    for line in file_in:\n",
    "        print (line)\n",
    "    word_len = []\n",
    "    rand_key = compute_rand_key()\n",
    "    encode(rand_key,word_len)\n",
    "    print ('加密后的文件：')\n",
    "    decode(rand_key,word_len)\n",
    "        \n",
    "    print ('''    -----------------分割线-----------------\n",
    "    \n",
    "    问题：\n",
    "         1.原来单词的长度再现困难，是否是我题意理解错了\n",
    "         2.移位问题\n",
    "    \n",
    "    -----------------分割线-----------------''')\n",
    "    \n",
    "\n",
    "if __name__ == '__main__':\n",
    "    main()"
   ]
  }
 ],
 "metadata": {
  "kernelspec": {
   "display_name": "Python 3",
   "language": "python",
   "name": "python3"
  },
  "language_info": {
   "codemirror_mode": {
    "name": "ipython",
    "version": 3
   },
   "file_extension": ".py",
   "mimetype": "text/x-python",
   "name": "python",
   "nbconvert_exporter": "python",
   "pygments_lexer": "ipython3",
   "version": "3.6.4"
  }
 },
 "nbformat": 4,
 "nbformat_minor": 2
}
